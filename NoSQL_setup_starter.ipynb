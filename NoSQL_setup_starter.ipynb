{
 "cells": [
  {
   "cell_type": "markdown",
   "id": "9a57c4c6",
   "metadata": {},
   "source": [
    "# Eat Safe, Love"
   ]
  },
  {
   "cell_type": "markdown",
   "id": "064ef857",
   "metadata": {},
   "source": [
    "## Part 1: Database and Jupyter Notebook Set Up"
   ]
  },
  {
   "cell_type": "markdown",
   "id": "664e3c1f",
   "metadata": {},
   "source": [
    "Import the data provided in the `establishments.json` file from your Terminal. Name the database `uk_food` and the collection `establishments`.\n",
    "\n",
    "Within this markdown cell, copy the line of text you used to import the data from your Terminal. This way, future analysts will be able to repeat your process.\n",
    "\n",
    "e.g.: Import the dataset with `YOUR IMPORT TEXT HERE`"
   ]
  },
  {
   "cell_type": "markdown",
   "id": "5172a859-0944-4a7b-87b0-d9ef70e4bb58",
   "metadata": {},
   "source": [
    "\n",
    "PS C:\\Users\\jodym\\Documents\\02.01 Data Analytics BootCamp\\DATABOOTCAMP\\Homework\\nosql_Evaluate_Ratings_Challenge_12\\Resources> mongoimport --type json -d uk_food -c establishments --drop --jsonArray estab\r\n",
    "lishments.json\r\n",
    "2024-07-21T15:10:20.074-0400    connected to: mongodb://localhost/\r\n",
    "2024-07-21T15:10:20.076-0400    dropping: uk_food.establishments\r\n",
    "2024-07-21T15:10:22.313-0400    39779 document(s) imported successfully. 0 document(s) failed to import.\r\n",
    "PS C:\\Users\\jodym\\Documents\\02.01 Data Analytics BootCamp\\DATABOOTCAMP\\Homework\\nosql_Evaluate_Ratings_Challenge_12\\Resou\n",
    "\n",
    "C:\\Users\\jodym\\Documents\\02.01 Data Analytics BootCamp\\DATABOOTCAMP\\Homework\\nosql_Evaluate_Ratings_Challenge_12\\Resources>mongoimport --type json -d uk_food -c establishments --drop --jsonArray establishments.json\r\n",
    "2024-07-28T19:28:03.169-0400    connected to: mongodb://localhost/\r\n",
    "2024-07-28T19:28:03.170-0400    dropping: uk_food.establishments\r\n",
    "2024-07-28T19:28:04.220-0400    39779 document(s) imported successfully. 0 document(s) failed to import.\n",
    "rces>"
   ]
  },
  {
   "cell_type": "code",
   "execution_count": 1,
   "id": "3ecdd008",
   "metadata": {},
   "outputs": [],
   "source": [
    "# Import dependencies\n",
    "from pymongo import MongoClient\n",
    "from pprint import pprint"
   ]
  },
  {
   "cell_type": "code",
   "execution_count": 2,
   "id": "59390c4a",
   "metadata": {},
   "outputs": [],
   "source": [
    "# Create an instance of MongoClient\n",
    "mongo = MongoClient(port=27017)"
   ]
  },
  {
   "cell_type": "code",
   "execution_count": 3,
   "id": "7f9ececa",
   "metadata": {},
   "outputs": [
    {
     "name": "stdout",
     "output_type": "stream",
     "text": [
      "['admin',\n",
      " 'autosaurus',\n",
      " 'classDB',\n",
      " 'config',\n",
      " 'epa',\n",
      " 'fruits',\n",
      " 'local',\n",
      " 'met',\n",
      " 'petsitly_marketing',\n",
      " 'travel_db',\n",
      " 'travel_db1',\n",
      " 'uk_food']\n"
     ]
    }
   ],
   "source": [
    "# confirm that our new database was created\n",
    "pprint(mongo.list_database_names())"
   ]
  },
  {
   "cell_type": "code",
   "execution_count": 4,
   "id": "71e373c1",
   "metadata": {},
   "outputs": [],
   "source": [
    "# assign the uk_food database to a variable name\n",
    "db = mongo['uk_food']"
   ]
  },
  {
   "cell_type": "code",
   "execution_count": 5,
   "id": "ef1b89ed",
   "metadata": {},
   "outputs": [
    {
     "name": "stdout",
     "output_type": "stream",
     "text": [
      "['establishments']\n"
     ]
    }
   ],
   "source": [
    "# review the collections in our new database\n",
    "print(db.list_collection_names())"
   ]
  },
  {
   "cell_type": "code",
   "execution_count": 6,
   "id": "18ab463c",
   "metadata": {},
   "outputs": [],
   "source": [
    "# review the collections in our new database\n"
   ]
  },
  {
   "cell_type": "code",
   "execution_count": 7,
   "id": "6a0d92df",
   "metadata": {},
   "outputs": [
    {
     "name": "stdout",
     "output_type": "stream",
     "text": [
      "{'AddressLine1': 'The Bay',\n",
      " 'AddressLine2': 'St Margarets Bay',\n",
      " 'AddressLine3': 'Kent',\n",
      " 'AddressLine4': '',\n",
      " 'BusinessName': 'Refreshment Kiosk',\n",
      " 'BusinessType': 'Restaurant/Cafe/Canteen',\n",
      " 'BusinessTypeID': 1,\n",
      " 'ChangesByServerID': 0,\n",
      " 'Distance': 4587.347174863443,\n",
      " 'FHRSID': 254719,\n",
      " 'LocalAuthorityBusinessID': 'PI/000069980',\n",
      " 'LocalAuthorityCode': '182',\n",
      " 'LocalAuthorityEmailAddress': 'publicprotection@dover.gov.uk',\n",
      " 'LocalAuthorityName': 'Dover',\n",
      " 'LocalAuthorityWebSite': 'http://www.dover.gov.uk/',\n",
      " 'NewRatingPending': False,\n",
      " 'Phone': '',\n",
      " 'PostCode': 'CT15 6DY',\n",
      " 'RatingDate': '2022-03-24T00:00:00',\n",
      " 'RatingKey': 'fhrs_5_en-gb',\n",
      " 'RatingValue': '5',\n",
      " 'RightToReply': '',\n",
      " 'SchemeType': 'FHRS',\n",
      " '_id': ObjectId('66a7f527e61c900c1830e933'),\n",
      " 'geocode': {'latitude': '51.152225', 'longitude': '1.387974'},\n",
      " 'links': [{'href': 'https://api.ratings.food.gov.uk/establishments/254719',\n",
      "            'rel': 'self'}],\n",
      " 'meta': {'dataSource': None,\n",
      "          'extractDate': '0001-01-01T00:00:00',\n",
      "          'itemCount': 0,\n",
      "          'pageNumber': 0,\n",
      "          'pageSize': 0,\n",
      "          'returncode': None,\n",
      "          'totalCount': 0,\n",
      "          'totalPages': 0},\n",
      " 'scores': {'ConfidenceInManagement': 5, 'Hygiene': 0, 'Structural': 5}}\n"
     ]
    }
   ],
   "source": [
    "# review a document in the establishments collection\n",
    "pprint(db.establishments.find_one())"
   ]
  },
  {
   "cell_type": "code",
   "execution_count": 8,
   "id": "11c9f11b",
   "metadata": {},
   "outputs": [],
   "source": [
    "# assign the collection to a variable\n",
    "establishments = db['establishments']"
   ]
  },
  {
   "cell_type": "markdown",
   "id": "d5671434",
   "metadata": {},
   "source": [
    "## Part 2: Update the Database"
   ]
  },
  {
   "cell_type": "markdown",
   "id": "314bd884",
   "metadata": {},
   "source": [
    "1. An exciting new halal restaurant just opened in Greenwich, but hasn't been rated yet. The magazine has asked you to include it in your analysis. Add the following restaurant \"Penang Flavours\" to the database."
   ]
  },
  {
   "cell_type": "code",
   "execution_count": 9,
   "id": "c2da7648",
   "metadata": {},
   "outputs": [],
   "source": [
    "# Create a dictionary for the new restaurant data\n",
    "new_restaurant ={\n",
    "    \"BusinessName\":\"Penang Flavours\",\n",
    "    \"BusinessType\":\"Restaurant/Cafe/Canteen\",\n",
    "    \"BusinessTypeID\":\"\",\n",
    "    \"AddressLine1\":\"Penang Flavours\",\n",
    "    \"AddressLine2\":\"146A Plumstead Rd\",\n",
    "    \"AddressLine3\":\"London\",\n",
    "    \"AddressLine4\":\"\",\n",
    "    \"PostCode\":\"SE18 7DY\",\n",
    "    \"Phone\":\"\",\n",
    "    \"LocalAuthorityCode\":\"511\",\n",
    "    \"LocalAuthorityName\":\"Greenwich\",\n",
    "    \"LocalAuthorityWebSite\":\"http://www.royalgreenwich.gov.uk\",\n",
    "    \"LocalAuthorityEmailAddress\":\"health@royalgreenwich.gov.uk\",\n",
    "    \"scores\":{\n",
    "        \"Hygiene\":\"\",\n",
    "        \"Structural\":\"\",\n",
    "        \"ConfidenceInManagement\":\"\"\n",
    "    },\n",
    "    \"SchemeType\":\"FHRS\",\n",
    "    \"geocode\":{\n",
    "        \"longitude\":\"0.08384000\",\n",
    "        \"latitude\":\"51.49014200\"\n",
    "    },\n",
    "    \"RightToReply\":\"\",\n",
    "    \"Distance\":4623.9723280747176,\n",
    "    \"NewRatingPending\":True\n",
    "}"
   ]
  },
  {
   "cell_type": "code",
   "execution_count": 10,
   "id": "a6e5cece",
   "metadata": {},
   "outputs": [
    {
     "data": {
      "text/plain": [
       "InsertOneResult(ObjectId('66a7f537d56d03b024440666'), acknowledged=True)"
      ]
     },
     "execution_count": 10,
     "metadata": {},
     "output_type": "execute_result"
    }
   ],
   "source": [
    "# Insert the new restaurant into the collection\n",
    "establishments.insert_one(new_restaurant)"
   ]
  },
  {
   "cell_type": "code",
   "execution_count": 11,
   "id": "63bb10f9",
   "metadata": {},
   "outputs": [
    {
     "name": "stdout",
     "output_type": "stream",
     "text": [
      "{'AddressLine1': 'Penang Flavours',\n",
      " 'AddressLine2': '146A Plumstead Rd',\n",
      " 'AddressLine3': 'London',\n",
      " 'AddressLine4': '',\n",
      " 'BusinessName': 'Penang Flavours',\n",
      " 'BusinessType': 'Restaurant/Cafe/Canteen',\n",
      " 'BusinessTypeID': '',\n",
      " 'Distance': 4623.972328074718,\n",
      " 'LocalAuthorityCode': '511',\n",
      " 'LocalAuthorityEmailAddress': 'health@royalgreenwich.gov.uk',\n",
      " 'LocalAuthorityName': 'Greenwich',\n",
      " 'LocalAuthorityWebSite': 'http://www.royalgreenwich.gov.uk',\n",
      " 'NewRatingPending': True,\n",
      " 'Phone': '',\n",
      " 'PostCode': 'SE18 7DY',\n",
      " 'RightToReply': '',\n",
      " 'SchemeType': 'FHRS',\n",
      " '_id': ObjectId('66a7f537d56d03b024440666'),\n",
      " 'geocode': {'latitude': '51.49014200', 'longitude': '0.08384000'},\n",
      " 'scores': {'ConfidenceInManagement': '', 'Hygiene': '', 'Structural': ''}}\n"
     ]
    }
   ],
   "source": [
    "# Check that the new restaurant was inserted\n",
    "query = {\"BusinessName\":\"Penang Flavours\"}\n",
    "results = establishments.find(query)\n",
    "# pprint(results(0))#\n",
    "for result in results:\n",
    "  pprint(result)"
   ]
  },
  {
   "cell_type": "markdown",
   "id": "0ef4395a",
   "metadata": {},
   "source": [
    "2. Find the BusinessTypeID for \"Restaurant/Cafe/Canteen\" and return only the `BusinessTypeID` and `BusinessType` fields."
   ]
  },
  {
   "cell_type": "code",
   "execution_count": 12,
   "id": "93c63829",
   "metadata": {},
   "outputs": [
    {
     "name": "stdout",
     "output_type": "stream",
     "text": [
      "{'BusinessType': 'Restaurant/Cafe/Canteen',\n",
      " 'BusinessTypeID': 1,\n",
      " '_id': ObjectId('66a7f527e61c900c1830e933')}\n"
     ]
    }
   ],
   "source": [
    "# Find the BusinessTypeID for \"Restaurant/Cafe/Canteen\" and return only the BusinessTypeID and BusinessType fields\n",
    "#bus_type= { 'BusinessType': 'Restaurant/Cafe/Canteen'}\n",
    "#business_query = {}\n",
    "business_query= { 'BusinessType': 'Restaurant/Cafe/Canteen'}\n",
    "business_type_fields = {'BusinessTypeID': 1,'BusinessType': 1}\n",
    "# Capture the results to a variable\n",
    "results = establishments.find(business_query, business_type_fields)\n",
    "\n",
    "\n",
    "pprint(results[0])"
   ]
  },
  {
   "cell_type": "markdown",
   "id": "4e570caf",
   "metadata": {},
   "source": [
    "3. Update the new restaurant with the `BusinessTypeID` you found."
   ]
  },
  {
   "cell_type": "code",
   "execution_count": 13,
   "id": "7f599f3d",
   "metadata": {},
   "outputs": [
    {
     "data": {
      "text/plain": [
       "UpdateResult({'n': 1, 'nModified': 1, 'ok': 1.0, 'updatedExisting': True}, acknowledged=True)"
      ]
     },
     "execution_count": 13,
     "metadata": {},
     "output_type": "execute_result"
    }
   ],
   "source": [
    "# Update the new restaurant with the correct BusinessTypeID\n",
    "db.establishments.update_one({\"BusinessName\":\"Penang Flavours\"},\n",
    "                                  {'$set':\n",
    "                                       {'BusinessTypeID':'1'}\n",
    "                                  }\n",
    "                                   )"
   ]
  },
  {
   "cell_type": "code",
   "execution_count": 14,
   "id": "a6ad16f7",
   "metadata": {},
   "outputs": [
    {
     "name": "stdout",
     "output_type": "stream",
     "text": [
      "{'AddressLine1': 'Penang Flavours',\n",
      " 'AddressLine2': '146A Plumstead Rd',\n",
      " 'AddressLine3': 'London',\n",
      " 'AddressLine4': '',\n",
      " 'BusinessName': 'Penang Flavours',\n",
      " 'BusinessType': 'Restaurant/Cafe/Canteen',\n",
      " 'BusinessTypeID': '1',\n",
      " 'Distance': 4623.972328074718,\n",
      " 'LocalAuthorityCode': '511',\n",
      " 'LocalAuthorityEmailAddress': 'health@royalgreenwich.gov.uk',\n",
      " 'LocalAuthorityName': 'Greenwich',\n",
      " 'LocalAuthorityWebSite': 'http://www.royalgreenwich.gov.uk',\n",
      " 'NewRatingPending': True,\n",
      " 'Phone': '',\n",
      " 'PostCode': 'SE18 7DY',\n",
      " 'RightToReply': '',\n",
      " 'SchemeType': 'FHRS',\n",
      " '_id': ObjectId('66a7f537d56d03b024440666'),\n",
      " 'geocode': {'latitude': '51.49014200', 'longitude': '0.08384000'},\n",
      " 'scores': {'ConfidenceInManagement': '', 'Hygiene': '', 'Structural': ''}}\n"
     ]
    }
   ],
   "source": [
    "# Confirm that the new restaurant was updated\n",
    "pprint(establishments.find_one({\"BusinessName\":\"Penang Flavours\"}))"
   ]
  },
  {
   "cell_type": "code",
   "execution_count": 15,
   "id": "28d5527f-e91e-4f51-94dd-064676b0a518",
   "metadata": {
    "scrolled": true
   },
   "outputs": [
    {
     "name": "stdout",
     "output_type": "stream",
     "text": [
      "{'BusinessName': 'Penang Flavours',\n",
      " 'BusinessTypeID': '1',\n",
      " '_id': ObjectId('66a7f537d56d03b024440666')}\n"
     ]
    }
   ],
   "source": [
    "# Confirm that the new restaurant was updated\n",
    "query = {\"BusinessName\": \"Penang Flavours\"}\n",
    "results = establishments.find(query, {\"BusinessName\": 1, \"BusinessTypeID\": 1})\n",
    "\n",
    "for result in results:\n",
    "  pprint(result)"
   ]
  },
  {
   "cell_type": "markdown",
   "id": "67281254",
   "metadata": {},
   "source": [
    "4. The magazine is not interested in any establishments in Dover, so check how many documents contain the Dover Local Authority. Then, remove any establishments within the Dover Local Authority from the database, and check the number of documents to ensure they were deleted."
   ]
  },
  {
   "cell_type": "code",
   "execution_count": 16,
   "id": "768474a6",
   "metadata": {},
   "outputs": [
    {
     "name": "stdout",
     "output_type": "stream",
     "text": [
      "Number of documents with LocalAuthorityName as 'Dover': 994\n"
     ]
    }
   ],
   "source": [
    "# Find how many documents have LocalAuthorityName as \"Dover\"\n",
    "query = {\"LocalAuthorityName\": \"Dover\"}\n",
    "count = establishments.count_documents(query)\n",
    "print(\"Number of documents with LocalAuthorityName as 'Dover':\", count)"
   ]
  },
  {
   "cell_type": "code",
   "execution_count": 17,
   "id": "a11d5f1b",
   "metadata": {},
   "outputs": [
    {
     "name": "stdout",
     "output_type": "stream",
     "text": [
      "Number of documents deleted: 994\n"
     ]
    }
   ],
   "source": [
    "# Delete all documents where LocalAuthorityName is \"Dover\"\n",
    "query = {\"LocalAuthorityName\": \"Dover\"}\n",
    "result = establishments.delete_many(query)\n",
    "print(\"Number of documents deleted:\", result.deleted_count)"
   ]
  },
  {
   "cell_type": "code",
   "execution_count": 18,
   "id": "2a51aba0",
   "metadata": {},
   "outputs": [
    {
     "name": "stdout",
     "output_type": "stream",
     "text": [
      "There are no remaining documents with LocalAuthorityName as 'Dover'.\n"
     ]
    }
   ],
   "source": [
    "# Check if any remaining documents include Dover\n",
    "query = {\"LocalAuthorityName\": \"Dover\"}\n",
    "count = establishments.count_documents(query)\n",
    "if count > 0:\n",
    "    print(\"There are remaining documents with LocalAuthorityName as 'Dover'.\")\n",
    "else:\n",
    "    print(\"There are no remaining documents with LocalAuthorityName as 'Dover'.\")"
   ]
  },
  {
   "cell_type": "code",
   "execution_count": 19,
   "id": "8c356f7b",
   "metadata": {},
   "outputs": [
    {
     "name": "stdout",
     "output_type": "stream",
     "text": [
      "There are remaining documents.\n"
     ]
    }
   ],
   "source": [
    "# Check that other documents remain with 'find_one'\n",
    "remaining_document = establishments.find_one()\n",
    "if remaining_document is not None:\n",
    "    print(\"There are remaining documents.\")\n",
    "else:\n",
    "    print(\"There are no remaining documents.\")\n"
   ]
  },
  {
   "attachments": {},
   "cell_type": "markdown",
   "id": "e9f1662d",
   "metadata": {},
   "source": [
    "5. Some of the number values are stored as strings, when they should be stored as numbers."
   ]
  },
  {
   "attachments": {},
   "cell_type": "markdown",
   "id": "c46df2df",
   "metadata": {},
   "source": [
    "Use `update_many` to convert `latitude` and `longitude` to decimal numbers."
   ]
  },
  {
   "cell_type": "code",
   "execution_count": 20,
   "id": "fd4112ce",
   "metadata": {},
   "outputs": [],
   "source": [
    "# Change the data type from String to Decimal for longitude and latitude\n"
   ]
  },
  {
   "cell_type": "code",
   "execution_count": 21,
   "id": "cef203e1-bb49-4a59-ade3-144c9a011616",
   "metadata": {},
   "outputs": [
    {
     "name": "stdout",
     "output_type": "stream",
     "text": [
      "Update completed.\n"
     ]
    }
   ],
   "source": [
    "# Import the Decimal module\n",
    "from decimal import Decimal\n",
    "\n",
    "# Create a query to select documents with non-decimal latitude and longitude\n",
    "query = {\"geocode.latitude\": {\"$type\": \"string\"}, \"geocode.longitude\": {\"$type\": \"string\"}}\n",
    "\n",
    "# Iterate over the documents and update latitude and longitude fields\n",
    "for document in establishments.find(query):\n",
    "    # Convert string values to Decimal\n",
    "    latitude = Decimal(document[\"geocode\"][\"latitude\"])\n",
    "    longitude = Decimal(document[\"geocode\"][\"longitude\"])\n",
    "\n",
    "    # Convert Decimal values to floats\n",
    "    latitude_float = float(latitude)\n",
    "    longitude_float = float(longitude)\n",
    "\n",
    "    # Update the document with updated latitude and longitude fields\n",
    "    establishments.update_many(\n",
    "        {\"_id\": document[\"_id\"]},\n",
    "        {\"$set\": {\"geocode.latitude\": latitude_float, \"geocode.longitude\": longitude_float}},\n",
    "    )\n",
    "\n",
    "print(\"Update completed.\")"
   ]
  },
  {
   "attachments": {},
   "cell_type": "markdown",
   "id": "142e319c",
   "metadata": {},
   "source": [
    "Use `update_many` to convert `RatingValue` to integer numbers."
   ]
  },
  {
   "cell_type": "code",
   "execution_count": 22,
   "id": "b235d3c6-92c3-4c5f-a126-bb8be9610cc4",
   "metadata": {},
   "outputs": [
    {
     "name": "stdout",
     "output_type": "stream",
     "text": [
      "Restaurant Name: St Marys COE (aided) Primary School\n",
      "Longitude: 1.194762\n",
      "Latitude: 51.085797\n",
      "\n",
      "Restaurant Name: The Ship\n",
      "Longitude: 1.188537\n",
      "Latitude: 51.08084\n",
      "\n",
      "Restaurant Name: Mariner\n",
      "Longitude: 1.188537\n",
      "Latitude: 51.08084\n",
      "\n",
      "Restaurant Name: The Ships Galley\n",
      "Longitude: 1.188537\n",
      "Latitude: 51.08084\n",
      "\n",
      "Restaurant Name: Dr Legumes - Harbour Arm\n",
      "Longitude: 1.18590330311705\n",
      "Latitude: 51.0783519967076\n",
      "\n",
      "Restaurant Name: That Burger - Harbour Arm\n",
      "Longitude: 1.18590330311705\n",
      "Latitude: 51.0783519967076\n",
      "\n",
      "Restaurant Name: Folkestone Trawlers Shop\n",
      "Longitude: 1.188537\n",
      "Latitude: 51.08084\n",
      "\n",
      "Restaurant Name: The Pavilion\n",
      "Longitude: 1.195625\n",
      "Latitude: 51.083812\n",
      "\n",
      "Restaurant Name: The Tea Caddy\n",
      "Longitude: 1.18590330311705\n",
      "Latitude: 51.0783519967076\n",
      "\n",
      "Restaurant Name: The Club Hut\n",
      "Longitude: 1.18590330311705\n",
      "Latitude: 51.0783519967076\n",
      "\n"
     ]
    }
   ],
   "source": [
    "# display the first 10 records\n",
    "# Retrieve the first 10 documents from the collection\n",
    "documents = establishments.find().limit(10)\n",
    "\n",
    "# Iterate over the documents and print the restaurant name, longitude, and latitude\n",
    "for document in documents:\n",
    "    name = document[\"BusinessName\"]\n",
    "    longitude = document[\"geocode\"][\"longitude\"]\n",
    "    latitude = document[\"geocode\"][\"latitude\"]\n",
    "    \n",
    "    print(\"Restaurant Name:\", name)\n",
    "    print(\"Longitude:\", longitude)\n",
    "    print(\"Latitude:\", latitude)\n",
    "    print()"
   ]
  },
  {
   "cell_type": "code",
   "execution_count": 23,
   "id": "04430a5b",
   "metadata": {},
   "outputs": [
    {
     "data": {
      "text/plain": [
       "UpdateResult({'n': 4091, 'nModified': 4091, 'ok': 1.0, 'updatedExisting': True}, acknowledged=True)"
      ]
     },
     "execution_count": 23,
     "metadata": {},
     "output_type": "execute_result"
    }
   ],
   "source": [
    "# Set non 1-5 Rating Values to Null\n",
    "non_ratings = [\"AwaitingInspection\", \"Awaiting Inspection\", \"AwaitingPublication\", \"Pass\", \"Exempt\"]\n",
    "establishments.update_many({\"RatingValue\": {\"$in\": non_ratings}}, [ {'$set':{ \"RatingValue\" : None}} ])"
   ]
  },
  {
   "cell_type": "code",
   "execution_count": 24,
   "id": "92524ccc",
   "metadata": {},
   "outputs": [],
   "source": [
    "# Change the data type from String to Integer for RatingValue\n"
   ]
  },
  {
   "cell_type": "code",
   "execution_count": 25,
   "id": "37a5902b-7c93-4297-9312-91eff7006618",
   "metadata": {},
   "outputs": [
    {
     "name": "stdout",
     "output_type": "stream",
     "text": [
      "Update completed.\n"
     ]
    }
   ],
   "source": [
    "\n",
    "\n",
    "# Change the data type of RatingValue field to integer for documents with valid rating values\n",
    "establishments.update_many(\n",
    "    {\"RatingValue\": {\"$nin\": non_ratings}, \"RatingValue\": {\"$type\": \"string\"}},\n",
    "    [\n",
    "        {\n",
    "            \"$set\": {\n",
    "                \"RatingValue\": {\n",
    "                    \"$toInt\": \"$RatingValue\"\n",
    "                }\n",
    "            }\n",
    "        }\n",
    "    ]\n",
    ")\n",
    "\n",
    "print(\"Update completed.\")"
   ]
  },
  {
   "cell_type": "code",
   "execution_count": 26,
   "id": "0deacaf9",
   "metadata": {},
   "outputs": [],
   "source": [
    "# Check that the coordinates and rating value are now numbers\n"
   ]
  },
  {
   "cell_type": "code",
   "execution_count": 27,
   "id": "7d5dcc61-230b-4389-a954-60a42376952e",
   "metadata": {},
   "outputs": [
    {
     "name": "stdout",
     "output_type": "stream",
     "text": [
      "Restaurant Name: St Marys COE (aided) Primary School\n",
      "Longitude (data type): <class 'float'>\n",
      "Latitude (data type): <class 'float'>\n",
      "Rating Value (data type): <class 'int'>\n",
      "\n",
      "Restaurant Name: The Ship\n",
      "Longitude (data type): <class 'float'>\n",
      "Latitude (data type): <class 'float'>\n",
      "Rating Value (data type): <class 'int'>\n",
      "\n",
      "Restaurant Name: Mariner\n",
      "Longitude (data type): <class 'float'>\n",
      "Latitude (data type): <class 'float'>\n",
      "Rating Value (data type): <class 'int'>\n",
      "\n",
      "Restaurant Name: The Ships Galley\n",
      "Longitude (data type): <class 'float'>\n",
      "Latitude (data type): <class 'float'>\n",
      "Rating Value (data type): <class 'int'>\n",
      "\n",
      "Restaurant Name: Dr Legumes - Harbour Arm\n",
      "Longitude (data type): <class 'float'>\n",
      "Latitude (data type): <class 'float'>\n",
      "Rating Value (data type): <class 'int'>\n",
      "\n",
      "Restaurant Name: That Burger - Harbour Arm\n",
      "Longitude (data type): <class 'float'>\n",
      "Latitude (data type): <class 'float'>\n",
      "Rating Value (data type): <class 'int'>\n",
      "\n",
      "Restaurant Name: Folkestone Trawlers Shop\n",
      "Longitude (data type): <class 'float'>\n",
      "Latitude (data type): <class 'float'>\n",
      "Rating Value (data type): <class 'int'>\n",
      "\n",
      "Restaurant Name: The Pavilion\n",
      "Longitude (data type): <class 'float'>\n",
      "Latitude (data type): <class 'float'>\n",
      "Rating Value (data type): <class 'int'>\n",
      "\n",
      "Restaurant Name: The Tea Caddy\n",
      "Longitude (data type): <class 'float'>\n",
      "Latitude (data type): <class 'float'>\n",
      "Rating Value (data type): <class 'int'>\n",
      "\n",
      "Restaurant Name: The Club Hut\n",
      "Longitude (data type): <class 'float'>\n",
      "Latitude (data type): <class 'float'>\n",
      "Rating Value (data type): <class 'int'>\n",
      "\n"
     ]
    }
   ],
   "source": [
    "# Retrieve the first 10 documents from the collection\n",
    "documents = establishments.find().limit(10)\n",
    "\n",
    "# Iterate over the documents and check the data types\n",
    "for document in documents:\n",
    "    name = document[\"BusinessName\"]\n",
    "    longitude = document[\"geocode\"][\"longitude\"]\n",
    "    latitude = document[\"geocode\"][\"latitude\"]\n",
    "    rating = document[\"RatingValue\"]\n",
    "\n",
    "    print(\"Restaurant Name:\", name)\n",
    "    print(\"Longitude (data type):\", type(longitude))\n",
    "    print(\"Latitude (data type):\", type(latitude))\n",
    "    print(\"Rating Value (data type):\", type(rating))\n",
    "    print()"
   ]
  },
  {
   "cell_type": "code",
   "execution_count": null,
   "id": "f03dc876-588d-4d8b-81f0-c3918f6fce29",
   "metadata": {},
   "outputs": [],
   "source": []
  }
 ],
 "metadata": {
  "kernelspec": {
   "display_name": "Python 3 (ipykernel)",
   "language": "python",
   "name": "python3"
  },
  "language_info": {
   "codemirror_mode": {
    "name": "ipython",
    "version": 3
   },
   "file_extension": ".py",
   "mimetype": "text/x-python",
   "name": "python",
   "nbconvert_exporter": "python",
   "pygments_lexer": "ipython3",
   "version": "3.10.14"
  }
 },
 "nbformat": 4,
 "nbformat_minor": 5
}
